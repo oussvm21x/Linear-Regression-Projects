{
 "cells": [
  {
   "cell_type": "markdown",
   "id": "bd0d7a5a",
   "metadata": {
    "papermill": {
     "duration": 0.007602,
     "end_time": "2025-08-10T23:58:06.995621",
     "exception": false,
     "start_time": "2025-08-10T23:58:06.988019",
     "status": "completed"
    },
    "tags": []
   },
   "source": [
    "# Price prediction model for car data-set"
   ]
  },
  {
   "cell_type": "markdown",
   "id": "0c512bfa",
   "metadata": {
    "papermill": {
     "duration": 0.006172,
     "end_time": "2025-08-10T23:58:07.008731",
     "exception": false,
     "start_time": "2025-08-10T23:58:07.002559",
     "status": "completed"
    },
    "tags": []
   },
   "source": [
    "Importing Libraries"
   ]
  },
  {
   "cell_type": "code",
   "execution_count": 1,
   "id": "450f280a",
   "metadata": {
    "execution": {
     "iopub.execute_input": "2025-08-10T23:58:07.022608Z",
     "iopub.status.busy": "2025-08-10T23:58:07.022325Z",
     "iopub.status.idle": "2025-08-10T23:58:10.951980Z",
     "shell.execute_reply": "2025-08-10T23:58:10.951175Z"
    },
    "papermill": {
     "duration": 3.93853,
     "end_time": "2025-08-10T23:58:10.953665",
     "exception": false,
     "start_time": "2025-08-10T23:58:07.015135",
     "status": "completed"
    },
    "tags": []
   },
   "outputs": [],
   "source": [
    "import pandas as pd\n",
    "import numpy as np \n",
    "from matplotlib import pyplot as plt \n",
    "import seaborn as sns\n",
    "from sklearn.model_selection import train_test_split\n",
    "from sklearn.linear_model import LinearRegression, Lasso\n",
    "from sklearn.metrics import mean_squared_error, r2_score, mean_absolute_error #for testing "
   ]
  },
  {
   "cell_type": "markdown",
   "id": "fe656fa7",
   "metadata": {
    "papermill": {
     "duration": 0.006554,
     "end_time": "2025-08-10T23:58:10.968694",
     "exception": false,
     "start_time": "2025-08-10T23:58:10.962140",
     "status": "completed"
    },
    "tags": []
   },
   "source": [
    "Data Collecting and Pre-Processing "
   ]
  },
  {
   "cell_type": "code",
   "execution_count": 2,
   "id": "405c42fd",
   "metadata": {
    "execution": {
     "iopub.execute_input": "2025-08-10T23:58:10.983718Z",
     "iopub.status.busy": "2025-08-10T23:58:10.983279Z",
     "iopub.status.idle": "2025-08-10T23:58:11.003376Z",
     "shell.execute_reply": "2025-08-10T23:58:11.002517Z"
    },
    "papermill": {
     "duration": 0.029745,
     "end_time": "2025-08-10T23:58:11.005210",
     "exception": false,
     "start_time": "2025-08-10T23:58:10.975465",
     "status": "completed"
    },
    "tags": []
   },
   "outputs": [],
   "source": [
    "#Importing data\n",
    "data = pd.read_csv('/kaggle/input/carsdata/car_data.csv')"
   ]
  },
  {
   "cell_type": "code",
   "execution_count": 3,
   "id": "77eb664d",
   "metadata": {
    "execution": {
     "iopub.execute_input": "2025-08-10T23:58:11.020276Z",
     "iopub.status.busy": "2025-08-10T23:58:11.019936Z",
     "iopub.status.idle": "2025-08-10T23:58:11.047038Z",
     "shell.execute_reply": "2025-08-10T23:58:11.046179Z"
    },
    "papermill": {
     "duration": 0.036009,
     "end_time": "2025-08-10T23:58:11.048371",
     "exception": false,
     "start_time": "2025-08-10T23:58:11.012362",
     "status": "completed"
    },
    "tags": []
   },
   "outputs": [
    {
     "data": {
      "text/html": [
       "<div>\n",
       "<style scoped>\n",
       "    .dataframe tbody tr th:only-of-type {\n",
       "        vertical-align: middle;\n",
       "    }\n",
       "\n",
       "    .dataframe tbody tr th {\n",
       "        vertical-align: top;\n",
       "    }\n",
       "\n",
       "    .dataframe thead th {\n",
       "        text-align: right;\n",
       "    }\n",
       "</style>\n",
       "<table border=\"1\" class=\"dataframe\">\n",
       "  <thead>\n",
       "    <tr style=\"text-align: right;\">\n",
       "      <th></th>\n",
       "      <th>Car_Name</th>\n",
       "      <th>Year</th>\n",
       "      <th>Selling_Price</th>\n",
       "      <th>Present_Price</th>\n",
       "      <th>Kms_Driven</th>\n",
       "      <th>Fuel_Type</th>\n",
       "      <th>Seller_Type</th>\n",
       "      <th>Transmission</th>\n",
       "      <th>Owner</th>\n",
       "    </tr>\n",
       "  </thead>\n",
       "  <tbody>\n",
       "    <tr>\n",
       "      <th>0</th>\n",
       "      <td>ritz</td>\n",
       "      <td>2014</td>\n",
       "      <td>3.35</td>\n",
       "      <td>5.59</td>\n",
       "      <td>27000</td>\n",
       "      <td>Petrol</td>\n",
       "      <td>Dealer</td>\n",
       "      <td>Manual</td>\n",
       "      <td>0</td>\n",
       "    </tr>\n",
       "    <tr>\n",
       "      <th>1</th>\n",
       "      <td>sx4</td>\n",
       "      <td>2013</td>\n",
       "      <td>4.75</td>\n",
       "      <td>9.54</td>\n",
       "      <td>43000</td>\n",
       "      <td>Diesel</td>\n",
       "      <td>Dealer</td>\n",
       "      <td>Manual</td>\n",
       "      <td>0</td>\n",
       "    </tr>\n",
       "    <tr>\n",
       "      <th>2</th>\n",
       "      <td>ciaz</td>\n",
       "      <td>2017</td>\n",
       "      <td>7.25</td>\n",
       "      <td>9.85</td>\n",
       "      <td>6900</td>\n",
       "      <td>Petrol</td>\n",
       "      <td>Dealer</td>\n",
       "      <td>Manual</td>\n",
       "      <td>0</td>\n",
       "    </tr>\n",
       "    <tr>\n",
       "      <th>3</th>\n",
       "      <td>wagon r</td>\n",
       "      <td>2011</td>\n",
       "      <td>2.85</td>\n",
       "      <td>4.15</td>\n",
       "      <td>5200</td>\n",
       "      <td>Petrol</td>\n",
       "      <td>Dealer</td>\n",
       "      <td>Manual</td>\n",
       "      <td>0</td>\n",
       "    </tr>\n",
       "    <tr>\n",
       "      <th>4</th>\n",
       "      <td>swift</td>\n",
       "      <td>2014</td>\n",
       "      <td>4.60</td>\n",
       "      <td>6.87</td>\n",
       "      <td>42450</td>\n",
       "      <td>Diesel</td>\n",
       "      <td>Dealer</td>\n",
       "      <td>Manual</td>\n",
       "      <td>0</td>\n",
       "    </tr>\n",
       "  </tbody>\n",
       "</table>\n",
       "</div>"
      ],
      "text/plain": [
       "  Car_Name  Year  Selling_Price  Present_Price  Kms_Driven Fuel_Type  \\\n",
       "0     ritz  2014           3.35           5.59       27000    Petrol   \n",
       "1      sx4  2013           4.75           9.54       43000    Diesel   \n",
       "2     ciaz  2017           7.25           9.85        6900    Petrol   \n",
       "3  wagon r  2011           2.85           4.15        5200    Petrol   \n",
       "4    swift  2014           4.60           6.87       42450    Diesel   \n",
       "\n",
       "  Seller_Type Transmission  Owner  \n",
       "0      Dealer       Manual      0  \n",
       "1      Dealer       Manual      0  \n",
       "2      Dealer       Manual      0  \n",
       "3      Dealer       Manual      0  \n",
       "4      Dealer       Manual      0  "
      ]
     },
     "execution_count": 3,
     "metadata": {},
     "output_type": "execute_result"
    }
   ],
   "source": [
    "#Take a look at our data-set\n",
    "data.head()"
   ]
  },
  {
   "cell_type": "code",
   "execution_count": 4,
   "id": "71e72979",
   "metadata": {
    "execution": {
     "iopub.execute_input": "2025-08-10T23:58:11.063986Z",
     "iopub.status.busy": "2025-08-10T23:58:11.063339Z",
     "iopub.status.idle": "2025-08-10T23:58:11.068481Z",
     "shell.execute_reply": "2025-08-10T23:58:11.067835Z"
    },
    "papermill": {
     "duration": 0.014074,
     "end_time": "2025-08-10T23:58:11.069620",
     "exception": false,
     "start_time": "2025-08-10T23:58:11.055546",
     "status": "completed"
    },
    "tags": []
   },
   "outputs": [
    {
     "data": {
      "text/plain": [
       "(301, 9)"
      ]
     },
     "execution_count": 4,
     "metadata": {},
     "output_type": "execute_result"
    }
   ],
   "source": [
    "#Taking the shape of our data\n",
    "data_shape = data.shape\n",
    "data_shape"
   ]
  },
  {
   "cell_type": "code",
   "execution_count": 5,
   "id": "dcddfa06",
   "metadata": {
    "execution": {
     "iopub.execute_input": "2025-08-10T23:58:11.084970Z",
     "iopub.status.busy": "2025-08-10T23:58:11.084422Z",
     "iopub.status.idle": "2025-08-10T23:58:11.106843Z",
     "shell.execute_reply": "2025-08-10T23:58:11.105861Z"
    },
    "papermill": {
     "duration": 0.031671,
     "end_time": "2025-08-10T23:58:11.108280",
     "exception": false,
     "start_time": "2025-08-10T23:58:11.076609",
     "status": "completed"
    },
    "tags": []
   },
   "outputs": [
    {
     "name": "stdout",
     "output_type": "stream",
     "text": [
      "<class 'pandas.core.frame.DataFrame'>\n",
      "RangeIndex: 301 entries, 0 to 300\n",
      "Data columns (total 9 columns):\n",
      " #   Column         Non-Null Count  Dtype  \n",
      "---  ------         --------------  -----  \n",
      " 0   Car_Name       301 non-null    object \n",
      " 1   Year           301 non-null    int64  \n",
      " 2   Selling_Price  301 non-null    float64\n",
      " 3   Present_Price  301 non-null    float64\n",
      " 4   Kms_Driven     301 non-null    int64  \n",
      " 5   Fuel_Type      301 non-null    object \n",
      " 6   Seller_Type    301 non-null    object \n",
      " 7   Transmission   301 non-null    object \n",
      " 8   Owner          301 non-null    int64  \n",
      "dtypes: float64(2), int64(3), object(4)\n",
      "memory usage: 21.3+ KB\n"
     ]
    }
   ],
   "source": [
    "#Start Exploring the data\n",
    "data.info()"
   ]
  },
  {
   "cell_type": "code",
   "execution_count": 6,
   "id": "9933c7ed",
   "metadata": {
    "execution": {
     "iopub.execute_input": "2025-08-10T23:58:11.123808Z",
     "iopub.status.busy": "2025-08-10T23:58:11.123407Z",
     "iopub.status.idle": "2025-08-10T23:58:11.147209Z",
     "shell.execute_reply": "2025-08-10T23:58:11.146406Z"
    },
    "papermill": {
     "duration": 0.033227,
     "end_time": "2025-08-10T23:58:11.148774",
     "exception": false,
     "start_time": "2025-08-10T23:58:11.115547",
     "status": "completed"
    },
    "tags": []
   },
   "outputs": [
    {
     "data": {
      "text/html": [
       "<div>\n",
       "<style scoped>\n",
       "    .dataframe tbody tr th:only-of-type {\n",
       "        vertical-align: middle;\n",
       "    }\n",
       "\n",
       "    .dataframe tbody tr th {\n",
       "        vertical-align: top;\n",
       "    }\n",
       "\n",
       "    .dataframe thead th {\n",
       "        text-align: right;\n",
       "    }\n",
       "</style>\n",
       "<table border=\"1\" class=\"dataframe\">\n",
       "  <thead>\n",
       "    <tr style=\"text-align: right;\">\n",
       "      <th></th>\n",
       "      <th>Year</th>\n",
       "      <th>Selling_Price</th>\n",
       "      <th>Present_Price</th>\n",
       "      <th>Kms_Driven</th>\n",
       "      <th>Owner</th>\n",
       "    </tr>\n",
       "  </thead>\n",
       "  <tbody>\n",
       "    <tr>\n",
       "      <th>count</th>\n",
       "      <td>301.000000</td>\n",
       "      <td>301.000000</td>\n",
       "      <td>301.000000</td>\n",
       "      <td>301.000000</td>\n",
       "      <td>301.000000</td>\n",
       "    </tr>\n",
       "    <tr>\n",
       "      <th>mean</th>\n",
       "      <td>2013.627907</td>\n",
       "      <td>4.661296</td>\n",
       "      <td>7.628472</td>\n",
       "      <td>36947.205980</td>\n",
       "      <td>0.043189</td>\n",
       "    </tr>\n",
       "    <tr>\n",
       "      <th>std</th>\n",
       "      <td>2.891554</td>\n",
       "      <td>5.082812</td>\n",
       "      <td>8.644115</td>\n",
       "      <td>38886.883882</td>\n",
       "      <td>0.247915</td>\n",
       "    </tr>\n",
       "    <tr>\n",
       "      <th>min</th>\n",
       "      <td>2003.000000</td>\n",
       "      <td>0.100000</td>\n",
       "      <td>0.320000</td>\n",
       "      <td>500.000000</td>\n",
       "      <td>0.000000</td>\n",
       "    </tr>\n",
       "    <tr>\n",
       "      <th>25%</th>\n",
       "      <td>2012.000000</td>\n",
       "      <td>0.900000</td>\n",
       "      <td>1.200000</td>\n",
       "      <td>15000.000000</td>\n",
       "      <td>0.000000</td>\n",
       "    </tr>\n",
       "    <tr>\n",
       "      <th>50%</th>\n",
       "      <td>2014.000000</td>\n",
       "      <td>3.600000</td>\n",
       "      <td>6.400000</td>\n",
       "      <td>32000.000000</td>\n",
       "      <td>0.000000</td>\n",
       "    </tr>\n",
       "    <tr>\n",
       "      <th>75%</th>\n",
       "      <td>2016.000000</td>\n",
       "      <td>6.000000</td>\n",
       "      <td>9.900000</td>\n",
       "      <td>48767.000000</td>\n",
       "      <td>0.000000</td>\n",
       "    </tr>\n",
       "    <tr>\n",
       "      <th>max</th>\n",
       "      <td>2018.000000</td>\n",
       "      <td>35.000000</td>\n",
       "      <td>92.600000</td>\n",
       "      <td>500000.000000</td>\n",
       "      <td>3.000000</td>\n",
       "    </tr>\n",
       "  </tbody>\n",
       "</table>\n",
       "</div>"
      ],
      "text/plain": [
       "              Year  Selling_Price  Present_Price     Kms_Driven       Owner\n",
       "count   301.000000     301.000000     301.000000     301.000000  301.000000\n",
       "mean   2013.627907       4.661296       7.628472   36947.205980    0.043189\n",
       "std       2.891554       5.082812       8.644115   38886.883882    0.247915\n",
       "min    2003.000000       0.100000       0.320000     500.000000    0.000000\n",
       "25%    2012.000000       0.900000       1.200000   15000.000000    0.000000\n",
       "50%    2014.000000       3.600000       6.400000   32000.000000    0.000000\n",
       "75%    2016.000000       6.000000       9.900000   48767.000000    0.000000\n",
       "max    2018.000000      35.000000      92.600000  500000.000000    3.000000"
      ]
     },
     "execution_count": 6,
     "metadata": {},
     "output_type": "execute_result"
    }
   ],
   "source": [
    "#It seems like we don't have any nan value \n",
    "#Lets describe our data \n",
    "data.describe()"
   ]
  },
  {
   "cell_type": "code",
   "execution_count": 7,
   "id": "5e6f7417",
   "metadata": {
    "execution": {
     "iopub.execute_input": "2025-08-10T23:58:11.165234Z",
     "iopub.status.busy": "2025-08-10T23:58:11.164549Z",
     "iopub.status.idle": "2025-08-10T23:58:11.168353Z",
     "shell.execute_reply": "2025-08-10T23:58:11.167497Z"
    },
    "papermill": {
     "duration": 0.013293,
     "end_time": "2025-08-10T23:58:11.169702",
     "exception": false,
     "start_time": "2025-08-10T23:58:11.156409",
     "status": "completed"
    },
    "tags": []
   },
   "outputs": [],
   "source": [
    "#Let's describe categorical data \n",
    "#We will do that to see the distrebution of our data \n",
    "#We will be doing that by seeing all values of each categorical variable"
   ]
  },
  {
   "cell_type": "code",
   "execution_count": 8,
   "id": "e72a95a7",
   "metadata": {
    "execution": {
     "iopub.execute_input": "2025-08-10T23:58:11.185915Z",
     "iopub.status.busy": "2025-08-10T23:58:11.185281Z",
     "iopub.status.idle": "2025-08-10T23:58:11.192063Z",
     "shell.execute_reply": "2025-08-10T23:58:11.191375Z"
    },
    "papermill": {
     "duration": 0.016175,
     "end_time": "2025-08-10T23:58:11.193343",
     "exception": false,
     "start_time": "2025-08-10T23:58:11.177168",
     "status": "completed"
    },
    "tags": []
   },
   "outputs": [
    {
     "data": {
      "text/plain": [
       "Seller_Type\n",
       "Dealer        195\n",
       "Individual    106\n",
       "Name: count, dtype: int64"
      ]
     },
     "execution_count": 8,
     "metadata": {},
     "output_type": "execute_result"
    }
   ],
   "source": [
    "data['Seller_Type'].value_counts()\n"
   ]
  },
  {
   "cell_type": "code",
   "execution_count": 9,
   "id": "152886da",
   "metadata": {
    "execution": {
     "iopub.execute_input": "2025-08-10T23:58:11.209556Z",
     "iopub.status.busy": "2025-08-10T23:58:11.208807Z",
     "iopub.status.idle": "2025-08-10T23:58:11.215481Z",
     "shell.execute_reply": "2025-08-10T23:58:11.214764Z"
    },
    "papermill": {
     "duration": 0.01605,
     "end_time": "2025-08-10T23:58:11.216837",
     "exception": false,
     "start_time": "2025-08-10T23:58:11.200787",
     "status": "completed"
    },
    "tags": []
   },
   "outputs": [
    {
     "data": {
      "text/plain": [
       "Seller_Type\n",
       "Dealer        195\n",
       "Individual    106\n",
       "Name: count, dtype: int64"
      ]
     },
     "execution_count": 9,
     "metadata": {},
     "output_type": "execute_result"
    }
   ],
   "source": [
    "data['Seller_Type'].value_counts()\n"
   ]
  },
  {
   "cell_type": "code",
   "execution_count": 10,
   "id": "cecc599a",
   "metadata": {
    "execution": {
     "iopub.execute_input": "2025-08-10T23:58:11.233202Z",
     "iopub.status.busy": "2025-08-10T23:58:11.232625Z",
     "iopub.status.idle": "2025-08-10T23:58:11.239430Z",
     "shell.execute_reply": "2025-08-10T23:58:11.238591Z"
    },
    "papermill": {
     "duration": 0.016448,
     "end_time": "2025-08-10T23:58:11.240802",
     "exception": false,
     "start_time": "2025-08-10T23:58:11.224354",
     "status": "completed"
    },
    "tags": []
   },
   "outputs": [
    {
     "data": {
      "text/plain": [
       "Fuel_Type\n",
       "Petrol    239\n",
       "Diesel     60\n",
       "CNG         2\n",
       "Name: count, dtype: int64"
      ]
     },
     "execution_count": 10,
     "metadata": {},
     "output_type": "execute_result"
    }
   ],
   "source": [
    "data['Fuel_Type'].value_counts()\n"
   ]
  },
  {
   "cell_type": "code",
   "execution_count": 11,
   "id": "e284b540",
   "metadata": {
    "execution": {
     "iopub.execute_input": "2025-08-10T23:58:11.257655Z",
     "iopub.status.busy": "2025-08-10T23:58:11.256839Z",
     "iopub.status.idle": "2025-08-10T23:58:11.260650Z",
     "shell.execute_reply": "2025-08-10T23:58:11.260013Z"
    },
    "papermill": {
     "duration": 0.013501,
     "end_time": "2025-08-10T23:58:11.261952",
     "exception": false,
     "start_time": "2025-08-10T23:58:11.248451",
     "status": "completed"
    },
    "tags": []
   },
   "outputs": [],
   "source": [
    "#We know that our ml model can't understand object(strings) , so we need to encode those categotical data"
   ]
  },
  {
   "cell_type": "code",
   "execution_count": 12,
   "id": "f01fd6e5",
   "metadata": {
    "execution": {
     "iopub.execute_input": "2025-08-10T23:58:11.278643Z",
     "iopub.status.busy": "2025-08-10T23:58:11.278161Z",
     "iopub.status.idle": "2025-08-10T23:58:11.281649Z",
     "shell.execute_reply": "2025-08-10T23:58:11.280996Z"
    },
    "papermill": {
     "duration": 0.013195,
     "end_time": "2025-08-10T23:58:11.282896",
     "exception": false,
     "start_time": "2025-08-10T23:58:11.269701",
     "status": "completed"
    },
    "tags": []
   },
   "outputs": [],
   "source": [
    "#Encoding Data\n",
    "#We can encode theme manually since they don't have lot of values \n"
   ]
  },
  {
   "cell_type": "code",
   "execution_count": 13,
   "id": "6a22872b",
   "metadata": {
    "execution": {
     "iopub.execute_input": "2025-08-10T23:58:11.361427Z",
     "iopub.status.busy": "2025-08-10T23:58:11.360561Z",
     "iopub.status.idle": "2025-08-10T23:58:11.369292Z",
     "shell.execute_reply": "2025-08-10T23:58:11.368387Z"
    },
    "papermill": {
     "duration": 0.080222,
     "end_time": "2025-08-10T23:58:11.370659",
     "exception": false,
     "start_time": "2025-08-10T23:58:11.290437",
     "status": "completed"
    },
    "tags": []
   },
   "outputs": [
    {
     "name": "stderr",
     "output_type": "stream",
     "text": [
      "/tmp/ipykernel_13/2859518233.py:1: FutureWarning: Downcasting behavior in `replace` is deprecated and will be removed in a future version. To retain the old behavior, explicitly call `result.infer_objects(copy=False)`. To opt-in to the future behavior, set `pd.set_option('future.no_silent_downcasting', True)`\n",
      "  data.replace({'Fuel_Type': {'Petrol': 0, 'Diesel': 1, 'CNG': 2}}, inplace=True)\n",
      "/tmp/ipykernel_13/2859518233.py:2: FutureWarning: Downcasting behavior in `replace` is deprecated and will be removed in a future version. To retain the old behavior, explicitly call `result.infer_objects(copy=False)`. To opt-in to the future behavior, set `pd.set_option('future.no_silent_downcasting', True)`\n",
      "  data.replace({'Seller_Type': {'Dealer': 0, 'Individual': 1}}, inplace=True)\n",
      "/tmp/ipykernel_13/2859518233.py:3: FutureWarning: Downcasting behavior in `replace` is deprecated and will be removed in a future version. To retain the old behavior, explicitly call `result.infer_objects(copy=False)`. To opt-in to the future behavior, set `pd.set_option('future.no_silent_downcasting', True)`\n",
      "  data.replace({'Transmission': {'Manual': 0, 'Automatic': 1}}, inplace=True)\n"
     ]
    }
   ],
   "source": [
    "data.replace({'Fuel_Type': {'Petrol': 0, 'Diesel': 1, 'CNG': 2}}, inplace=True)\n",
    "data.replace({'Seller_Type': {'Dealer': 0, 'Individual': 1}}, inplace=True)\n",
    "data.replace({'Transmission': {'Manual': 0, 'Automatic': 1}}, inplace=True)\n"
   ]
  },
  {
   "cell_type": "code",
   "execution_count": 14,
   "id": "da1411b9",
   "metadata": {
    "execution": {
     "iopub.execute_input": "2025-08-10T23:58:11.387091Z",
     "iopub.status.busy": "2025-08-10T23:58:11.386784Z",
     "iopub.status.idle": "2025-08-10T23:58:11.397251Z",
     "shell.execute_reply": "2025-08-10T23:58:11.396534Z"
    },
    "papermill": {
     "duration": 0.020123,
     "end_time": "2025-08-10T23:58:11.398511",
     "exception": false,
     "start_time": "2025-08-10T23:58:11.378388",
     "status": "completed"
    },
    "tags": []
   },
   "outputs": [
    {
     "data": {
      "text/html": [
       "<div>\n",
       "<style scoped>\n",
       "    .dataframe tbody tr th:only-of-type {\n",
       "        vertical-align: middle;\n",
       "    }\n",
       "\n",
       "    .dataframe tbody tr th {\n",
       "        vertical-align: top;\n",
       "    }\n",
       "\n",
       "    .dataframe thead th {\n",
       "        text-align: right;\n",
       "    }\n",
       "</style>\n",
       "<table border=\"1\" class=\"dataframe\">\n",
       "  <thead>\n",
       "    <tr style=\"text-align: right;\">\n",
       "      <th></th>\n",
       "      <th>Car_Name</th>\n",
       "      <th>Year</th>\n",
       "      <th>Selling_Price</th>\n",
       "      <th>Present_Price</th>\n",
       "      <th>Kms_Driven</th>\n",
       "      <th>Fuel_Type</th>\n",
       "      <th>Seller_Type</th>\n",
       "      <th>Transmission</th>\n",
       "      <th>Owner</th>\n",
       "    </tr>\n",
       "  </thead>\n",
       "  <tbody>\n",
       "    <tr>\n",
       "      <th>0</th>\n",
       "      <td>ritz</td>\n",
       "      <td>2014</td>\n",
       "      <td>3.35</td>\n",
       "      <td>5.59</td>\n",
       "      <td>27000</td>\n",
       "      <td>0</td>\n",
       "      <td>0</td>\n",
       "      <td>0</td>\n",
       "      <td>0</td>\n",
       "    </tr>\n",
       "    <tr>\n",
       "      <th>1</th>\n",
       "      <td>sx4</td>\n",
       "      <td>2013</td>\n",
       "      <td>4.75</td>\n",
       "      <td>9.54</td>\n",
       "      <td>43000</td>\n",
       "      <td>1</td>\n",
       "      <td>0</td>\n",
       "      <td>0</td>\n",
       "      <td>0</td>\n",
       "    </tr>\n",
       "    <tr>\n",
       "      <th>2</th>\n",
       "      <td>ciaz</td>\n",
       "      <td>2017</td>\n",
       "      <td>7.25</td>\n",
       "      <td>9.85</td>\n",
       "      <td>6900</td>\n",
       "      <td>0</td>\n",
       "      <td>0</td>\n",
       "      <td>0</td>\n",
       "      <td>0</td>\n",
       "    </tr>\n",
       "    <tr>\n",
       "      <th>3</th>\n",
       "      <td>wagon r</td>\n",
       "      <td>2011</td>\n",
       "      <td>2.85</td>\n",
       "      <td>4.15</td>\n",
       "      <td>5200</td>\n",
       "      <td>0</td>\n",
       "      <td>0</td>\n",
       "      <td>0</td>\n",
       "      <td>0</td>\n",
       "    </tr>\n",
       "    <tr>\n",
       "      <th>4</th>\n",
       "      <td>swift</td>\n",
       "      <td>2014</td>\n",
       "      <td>4.60</td>\n",
       "      <td>6.87</td>\n",
       "      <td>42450</td>\n",
       "      <td>1</td>\n",
       "      <td>0</td>\n",
       "      <td>0</td>\n",
       "      <td>0</td>\n",
       "    </tr>\n",
       "  </tbody>\n",
       "</table>\n",
       "</div>"
      ],
      "text/plain": [
       "  Car_Name  Year  Selling_Price  Present_Price  Kms_Driven  Fuel_Type  \\\n",
       "0     ritz  2014           3.35           5.59       27000          0   \n",
       "1      sx4  2013           4.75           9.54       43000          1   \n",
       "2     ciaz  2017           7.25           9.85        6900          0   \n",
       "3  wagon r  2011           2.85           4.15        5200          0   \n",
       "4    swift  2014           4.60           6.87       42450          1   \n",
       "\n",
       "   Seller_Type  Transmission  Owner  \n",
       "0            0             0      0  \n",
       "1            0             0      0  \n",
       "2            0             0      0  \n",
       "3            0             0      0  \n",
       "4            0             0      0  "
      ]
     },
     "execution_count": 14,
     "metadata": {},
     "output_type": "execute_result"
    }
   ],
   "source": [
    "#Cheking the data\n",
    "data.head()"
   ]
  },
  {
   "cell_type": "code",
   "execution_count": 15,
   "id": "049aa9fd",
   "metadata": {
    "execution": {
     "iopub.execute_input": "2025-08-10T23:58:11.415853Z",
     "iopub.status.busy": "2025-08-10T23:58:11.415551Z",
     "iopub.status.idle": "2025-08-10T23:58:11.423644Z",
     "shell.execute_reply": "2025-08-10T23:58:11.422896Z"
    },
    "papermill": {
     "duration": 0.018181,
     "end_time": "2025-08-10T23:58:11.425002",
     "exception": false,
     "start_time": "2025-08-10T23:58:11.406821",
     "status": "completed"
    },
    "tags": []
   },
   "outputs": [],
   "source": [
    "#we will drop Owner col since it won't help i predecting price \n",
    "data.drop('Owner' , axis=1 ,inplace =True)"
   ]
  },
  {
   "cell_type": "code",
   "execution_count": 16,
   "id": "e9675a9c",
   "metadata": {
    "execution": {
     "iopub.execute_input": "2025-08-10T23:58:11.442174Z",
     "iopub.status.busy": "2025-08-10T23:58:11.441811Z",
     "iopub.status.idle": "2025-08-10T23:58:11.447303Z",
     "shell.execute_reply": "2025-08-10T23:58:11.446410Z"
    },
    "papermill": {
     "duration": 0.015514,
     "end_time": "2025-08-10T23:58:11.448627",
     "exception": false,
     "start_time": "2025-08-10T23:58:11.433113",
     "status": "completed"
    },
    "tags": []
   },
   "outputs": [],
   "source": [
    "#Splitting Data \n",
    "X = data.drop(['Car_Name','Selling_Price'] , axis=1)\n",
    "Y = data.Selling_Price"
   ]
  },
  {
   "cell_type": "code",
   "execution_count": 17,
   "id": "f352e8e9",
   "metadata": {
    "execution": {
     "iopub.execute_input": "2025-08-10T23:58:11.466157Z",
     "iopub.status.busy": "2025-08-10T23:58:11.465804Z",
     "iopub.status.idle": "2025-08-10T23:58:11.472299Z",
     "shell.execute_reply": "2025-08-10T23:58:11.471595Z"
    },
    "papermill": {
     "duration": 0.016768,
     "end_time": "2025-08-10T23:58:11.473579",
     "exception": false,
     "start_time": "2025-08-10T23:58:11.456811",
     "status": "completed"
    },
    "tags": []
   },
   "outputs": [],
   "source": [
    "x_train , x_test , y_train , y_test = train_test_split(X , Y , test_size = 0.2)"
   ]
  },
  {
   "cell_type": "markdown",
   "id": "8c49a8bb",
   "metadata": {
    "papermill": {
     "duration": 0.007652,
     "end_time": "2025-08-10T23:58:11.489325",
     "exception": false,
     "start_time": "2025-08-10T23:58:11.481673",
     "status": "completed"
    },
    "tags": []
   },
   "source": [
    "Model Training "
   ]
  },
  {
   "cell_type": "markdown",
   "id": "d84a66d7",
   "metadata": {
    "papermill": {
     "duration": 0.007496,
     "end_time": "2025-08-10T23:58:11.504557",
     "exception": false,
     "start_time": "2025-08-10T23:58:11.497061",
     "status": "completed"
    },
    "tags": []
   },
   "source": [
    "Linear Regression "
   ]
  },
  {
   "cell_type": "code",
   "execution_count": 18,
   "id": "a6afbe2c",
   "metadata": {
    "execution": {
     "iopub.execute_input": "2025-08-10T23:58:11.521535Z",
     "iopub.status.busy": "2025-08-10T23:58:11.520807Z",
     "iopub.status.idle": "2025-08-10T23:58:11.524972Z",
     "shell.execute_reply": "2025-08-10T23:58:11.524165Z"
    },
    "papermill": {
     "duration": 0.014046,
     "end_time": "2025-08-10T23:58:11.526342",
     "exception": false,
     "start_time": "2025-08-10T23:58:11.512296",
     "status": "completed"
    },
    "tags": []
   },
   "outputs": [],
   "source": [
    "lin = LinearRegression()"
   ]
  },
  {
   "cell_type": "code",
   "execution_count": 19,
   "id": "3c4f37ce",
   "metadata": {
    "execution": {
     "iopub.execute_input": "2025-08-10T23:58:11.543815Z",
     "iopub.status.busy": "2025-08-10T23:58:11.543033Z",
     "iopub.status.idle": "2025-08-10T23:58:11.576724Z",
     "shell.execute_reply": "2025-08-10T23:58:11.575942Z"
    },
    "papermill": {
     "duration": 0.044137,
     "end_time": "2025-08-10T23:58:11.578247",
     "exception": false,
     "start_time": "2025-08-10T23:58:11.534110",
     "status": "completed"
    },
    "tags": []
   },
   "outputs": [
    {
     "data": {
      "text/html": [
       "<style>#sk-container-id-1 {color: black;background-color: white;}#sk-container-id-1 pre{padding: 0;}#sk-container-id-1 div.sk-toggleable {background-color: white;}#sk-container-id-1 label.sk-toggleable__label {cursor: pointer;display: block;width: 100%;margin-bottom: 0;padding: 0.3em;box-sizing: border-box;text-align: center;}#sk-container-id-1 label.sk-toggleable__label-arrow:before {content: \"▸\";float: left;margin-right: 0.25em;color: #696969;}#sk-container-id-1 label.sk-toggleable__label-arrow:hover:before {color: black;}#sk-container-id-1 div.sk-estimator:hover label.sk-toggleable__label-arrow:before {color: black;}#sk-container-id-1 div.sk-toggleable__content {max-height: 0;max-width: 0;overflow: hidden;text-align: left;background-color: #f0f8ff;}#sk-container-id-1 div.sk-toggleable__content pre {margin: 0.2em;color: black;border-radius: 0.25em;background-color: #f0f8ff;}#sk-container-id-1 input.sk-toggleable__control:checked~div.sk-toggleable__content {max-height: 200px;max-width: 100%;overflow: auto;}#sk-container-id-1 input.sk-toggleable__control:checked~label.sk-toggleable__label-arrow:before {content: \"▾\";}#sk-container-id-1 div.sk-estimator input.sk-toggleable__control:checked~label.sk-toggleable__label {background-color: #d4ebff;}#sk-container-id-1 div.sk-label input.sk-toggleable__control:checked~label.sk-toggleable__label {background-color: #d4ebff;}#sk-container-id-1 input.sk-hidden--visually {border: 0;clip: rect(1px 1px 1px 1px);clip: rect(1px, 1px, 1px, 1px);height: 1px;margin: -1px;overflow: hidden;padding: 0;position: absolute;width: 1px;}#sk-container-id-1 div.sk-estimator {font-family: monospace;background-color: #f0f8ff;border: 1px dotted black;border-radius: 0.25em;box-sizing: border-box;margin-bottom: 0.5em;}#sk-container-id-1 div.sk-estimator:hover {background-color: #d4ebff;}#sk-container-id-1 div.sk-parallel-item::after {content: \"\";width: 100%;border-bottom: 1px solid gray;flex-grow: 1;}#sk-container-id-1 div.sk-label:hover label.sk-toggleable__label {background-color: #d4ebff;}#sk-container-id-1 div.sk-serial::before {content: \"\";position: absolute;border-left: 1px solid gray;box-sizing: border-box;top: 0;bottom: 0;left: 50%;z-index: 0;}#sk-container-id-1 div.sk-serial {display: flex;flex-direction: column;align-items: center;background-color: white;padding-right: 0.2em;padding-left: 0.2em;position: relative;}#sk-container-id-1 div.sk-item {position: relative;z-index: 1;}#sk-container-id-1 div.sk-parallel {display: flex;align-items: stretch;justify-content: center;background-color: white;position: relative;}#sk-container-id-1 div.sk-item::before, #sk-container-id-1 div.sk-parallel-item::before {content: \"\";position: absolute;border-left: 1px solid gray;box-sizing: border-box;top: 0;bottom: 0;left: 50%;z-index: -1;}#sk-container-id-1 div.sk-parallel-item {display: flex;flex-direction: column;z-index: 1;position: relative;background-color: white;}#sk-container-id-1 div.sk-parallel-item:first-child::after {align-self: flex-end;width: 50%;}#sk-container-id-1 div.sk-parallel-item:last-child::after {align-self: flex-start;width: 50%;}#sk-container-id-1 div.sk-parallel-item:only-child::after {width: 0;}#sk-container-id-1 div.sk-dashed-wrapped {border: 1px dashed gray;margin: 0 0.4em 0.5em 0.4em;box-sizing: border-box;padding-bottom: 0.4em;background-color: white;}#sk-container-id-1 div.sk-label label {font-family: monospace;font-weight: bold;display: inline-block;line-height: 1.2em;}#sk-container-id-1 div.sk-label-container {text-align: center;}#sk-container-id-1 div.sk-container {/* jupyter's `normalize.less` sets `[hidden] { display: none; }` but bootstrap.min.css set `[hidden] { display: none !important; }` so we also need the `!important` here to be able to override the default hidden behavior on the sphinx rendered scikit-learn.org. See: https://github.com/scikit-learn/scikit-learn/issues/21755 */display: inline-block !important;position: relative;}#sk-container-id-1 div.sk-text-repr-fallback {display: none;}</style><div id=\"sk-container-id-1\" class=\"sk-top-container\"><div class=\"sk-text-repr-fallback\"><pre>LinearRegression()</pre><b>In a Jupyter environment, please rerun this cell to show the HTML representation or trust the notebook. <br />On GitHub, the HTML representation is unable to render, please try loading this page with nbviewer.org.</b></div><div class=\"sk-container\" hidden><div class=\"sk-item\"><div class=\"sk-estimator sk-toggleable\"><input class=\"sk-toggleable__control sk-hidden--visually\" id=\"sk-estimator-id-1\" type=\"checkbox\" checked><label for=\"sk-estimator-id-1\" class=\"sk-toggleable__label sk-toggleable__label-arrow\">LinearRegression</label><div class=\"sk-toggleable__content\"><pre>LinearRegression()</pre></div></div></div></div></div>"
      ],
      "text/plain": [
       "LinearRegression()"
      ]
     },
     "execution_count": 19,
     "metadata": {},
     "output_type": "execute_result"
    }
   ],
   "source": [
    "#Fitting our model\n",
    "lin.fit(x_train , y_train)"
   ]
  },
  {
   "cell_type": "code",
   "execution_count": 20,
   "id": "88692827",
   "metadata": {
    "execution": {
     "iopub.execute_input": "2025-08-10T23:58:11.596076Z",
     "iopub.status.busy": "2025-08-10T23:58:11.595363Z",
     "iopub.status.idle": "2025-08-10T23:58:11.600911Z",
     "shell.execute_reply": "2025-08-10T23:58:11.600054Z"
    },
    "papermill": {
     "duration": 0.015756,
     "end_time": "2025-08-10T23:58:11.602217",
     "exception": false,
     "start_time": "2025-08-10T23:58:11.586461",
     "status": "completed"
    },
    "tags": []
   },
   "outputs": [
    {
     "data": {
      "text/plain": [
       "{'copy_X': True, 'fit_intercept': True, 'n_jobs': None, 'positive': False}"
      ]
     },
     "execution_count": 20,
     "metadata": {},
     "output_type": "execute_result"
    }
   ],
   "source": [
    "lin.get_params()"
   ]
  },
  {
   "cell_type": "code",
   "execution_count": 21,
   "id": "feb6a063",
   "metadata": {
    "execution": {
     "iopub.execute_input": "2025-08-10T23:58:11.620210Z",
     "iopub.status.busy": "2025-08-10T23:58:11.619847Z",
     "iopub.status.idle": "2025-08-10T23:58:11.625253Z",
     "shell.execute_reply": "2025-08-10T23:58:11.624302Z"
    },
    "papermill": {
     "duration": 0.015919,
     "end_time": "2025-08-10T23:58:11.626570",
     "exception": false,
     "start_time": "2025-08-10T23:58:11.610651",
     "status": "completed"
    },
    "tags": []
   },
   "outputs": [
    {
     "name": "stdout",
     "output_type": "stream",
     "text": [
      "Coefficients (Beta values): [ 4.68429985e-01  5.52610488e-01 -4.48811434e-06  1.14935633e+00\n",
      " -3.46136815e-01  4.82567807e-01]\n",
      "Intercept (Beta_0 value): -942.8265997705913\n"
     ]
    }
   ],
   "source": [
    "coefficients = lin.coef_\n",
    "intercept = lin.intercept_\n",
    "\n",
    "# Print the coefficients and intercept\n",
    "print(\"Coefficients (Beta values):\", coefficients)\n",
    "print(\"Intercept (Beta_0 value):\", intercept)"
   ]
  },
  {
   "cell_type": "code",
   "execution_count": 22,
   "id": "9de40019",
   "metadata": {
    "execution": {
     "iopub.execute_input": "2025-08-10T23:58:11.644495Z",
     "iopub.status.busy": "2025-08-10T23:58:11.644170Z",
     "iopub.status.idle": "2025-08-10T23:58:11.652004Z",
     "shell.execute_reply": "2025-08-10T23:58:11.651110Z"
    },
    "papermill": {
     "duration": 0.018929,
     "end_time": "2025-08-10T23:58:11.653825",
     "exception": false,
     "start_time": "2025-08-10T23:58:11.634896",
     "status": "completed"
    },
    "tags": []
   },
   "outputs": [],
   "source": [
    "#Then we need to predict \n",
    "y_pre = lin.predict(x_train)"
   ]
  },
  {
   "cell_type": "code",
   "execution_count": 23,
   "id": "237302b7",
   "metadata": {
    "execution": {
     "iopub.execute_input": "2025-08-10T23:58:11.672567Z",
     "iopub.status.busy": "2025-08-10T23:58:11.672216Z",
     "iopub.status.idle": "2025-08-10T23:58:11.676527Z",
     "shell.execute_reply": "2025-08-10T23:58:11.675464Z"
    },
    "papermill": {
     "duration": 0.015229,
     "end_time": "2025-08-10T23:58:11.678026",
     "exception": false,
     "start_time": "2025-08-10T23:58:11.662797",
     "status": "completed"
    },
    "tags": []
   },
   "outputs": [],
   "source": [
    "#Then we check our linear model \n",
    "#We will apply our testing functions ( const_functions )\n"
   ]
  },
  {
   "cell_type": "code",
   "execution_count": 24,
   "id": "1dba9cd9",
   "metadata": {
    "execution": {
     "iopub.execute_input": "2025-08-10T23:58:11.696011Z",
     "iopub.status.busy": "2025-08-10T23:58:11.695708Z",
     "iopub.status.idle": "2025-08-10T23:58:11.701841Z",
     "shell.execute_reply": "2025-08-10T23:58:11.701178Z"
    },
    "papermill": {
     "duration": 0.016665,
     "end_time": "2025-08-10T23:58:11.703166",
     "exception": false,
     "start_time": "2025-08-10T23:58:11.686501",
     "status": "completed"
    },
    "tags": []
   },
   "outputs": [
    {
     "data": {
      "text/plain": [
       "3.030489420496972"
      ]
     },
     "execution_count": 24,
     "metadata": {},
     "output_type": "execute_result"
    }
   ],
   "source": [
    "err = mean_squared_error(y_train , y_pre)\n",
    "err"
   ]
  },
  {
   "cell_type": "code",
   "execution_count": 25,
   "id": "9a566781",
   "metadata": {
    "execution": {
     "iopub.execute_input": "2025-08-10T23:58:11.720833Z",
     "iopub.status.busy": "2025-08-10T23:58:11.720540Z",
     "iopub.status.idle": "2025-08-10T23:58:11.726739Z",
     "shell.execute_reply": "2025-08-10T23:58:11.725927Z"
    },
    "papermill": {
     "duration": 0.016611,
     "end_time": "2025-08-10T23:58:11.728091",
     "exception": false,
     "start_time": "2025-08-10T23:58:11.711480",
     "status": "completed"
    },
    "tags": []
   },
   "outputs": [
    {
     "data": {
      "text/plain": [
       "0.8595745822530934"
      ]
     },
     "execution_count": 25,
     "metadata": {},
     "output_type": "execute_result"
    }
   ],
   "source": [
    "err = r2_score(y_train , y_pre)\n",
    "err"
   ]
  },
  {
   "cell_type": "code",
   "execution_count": 26,
   "id": "2eb613cb",
   "metadata": {
    "execution": {
     "iopub.execute_input": "2025-08-10T23:58:11.745725Z",
     "iopub.status.busy": "2025-08-10T23:58:11.745451Z",
     "iopub.status.idle": "2025-08-10T23:58:11.751644Z",
     "shell.execute_reply": "2025-08-10T23:58:11.750853Z"
    },
    "papermill": {
     "duration": 0.016435,
     "end_time": "2025-08-10T23:58:11.752883",
     "exception": false,
     "start_time": "2025-08-10T23:58:11.736448",
     "status": "completed"
    },
    "tags": []
   },
   "outputs": [
    {
     "data": {
      "text/plain": [
       "1.1620428090391448"
      ]
     },
     "execution_count": 26,
     "metadata": {},
     "output_type": "execute_result"
    }
   ],
   "source": [
    "err = mean_absolute_error(y_train , y_pre)\n",
    "err"
   ]
  },
  {
   "cell_type": "code",
   "execution_count": 27,
   "id": "f1f00f1d",
   "metadata": {
    "execution": {
     "iopub.execute_input": "2025-08-10T23:58:11.771533Z",
     "iopub.status.busy": "2025-08-10T23:58:11.770745Z",
     "iopub.status.idle": "2025-08-10T23:58:12.041756Z",
     "shell.execute_reply": "2025-08-10T23:58:12.040932Z"
    },
    "papermill": {
     "duration": 0.281719,
     "end_time": "2025-08-10T23:58:12.043224",
     "exception": false,
     "start_time": "2025-08-10T23:58:11.761505",
     "status": "completed"
    },
    "tags": []
   },
   "outputs": [
    {
     "data": {
      "image/png": "[encoded data removed]",
      "text/plain": [
       "<Figure size 640x480 with 1 Axes>"
      ]
     },
     "metadata": {},
     "output_type": "display_data"
    }
   ],
   "source": [
    "plt.scatter(y_train, y_pre)\n",
    "plt.xlabel(\"Actual Values\")\n",
    "plt.ylabel(\"Predicted Values\")\n",
    "plt.title(\"Scatter Plot of Actual vs. Predicted Values\")\n",
    "plt.grid(True)\n",
    "plt.show()"
   ]
  },
  {
   "cell_type": "markdown",
   "id": "b9e00977",
   "metadata": {
    "papermill": {
     "duration": 0.009172,
     "end_time": "2025-08-10T23:58:12.061950",
     "exception": false,
     "start_time": "2025-08-10T23:58:12.052778",
     "status": "completed"
    },
    "tags": []
   },
   "source": [
    "Testing our data"
   ]
  },
  {
   "cell_type": "code",
   "execution_count": 28,
   "id": "efdbfa83",
   "metadata": {
    "execution": {
     "iopub.execute_input": "2025-08-10T23:58:12.080989Z",
     "iopub.status.busy": "2025-08-10T23:58:12.080690Z",
     "iopub.status.idle": "2025-08-10T23:58:12.086410Z",
     "shell.execute_reply": "2025-08-10T23:58:12.085676Z"
    },
    "papermill": {
     "duration": 0.016835,
     "end_time": "2025-08-10T23:58:12.087730",
     "exception": false,
     "start_time": "2025-08-10T23:58:12.070895",
     "status": "completed"
    },
    "tags": []
   },
   "outputs": [],
   "source": [
    "y_test_pred = lin.predict(x_test)"
   ]
  },
  {
   "cell_type": "code",
   "execution_count": 29,
   "id": "0becf785",
   "metadata": {
    "execution": {
     "iopub.execute_input": "2025-08-10T23:58:12.107305Z",
     "iopub.status.busy": "2025-08-10T23:58:12.106598Z",
     "iopub.status.idle": "2025-08-10T23:58:12.112609Z",
     "shell.execute_reply": "2025-08-10T23:58:12.111807Z"
    },
    "papermill": {
     "duration": 0.016786,
     "end_time": "2025-08-10T23:58:12.113743",
     "exception": false,
     "start_time": "2025-08-10T23:58:12.096957",
     "status": "completed"
    },
    "tags": []
   },
   "outputs": [
    {
     "data": {
      "text/plain": [
       "6.187653707689193"
      ]
     },
     "execution_count": 29,
     "metadata": {},
     "output_type": "execute_result"
    }
   ],
   "source": [
    "err = mean_squared_error(y_test , y_test_pred)\n",
    "err"
   ]
  },
  {
   "cell_type": "code",
   "execution_count": 30,
   "id": "3be0a8d0",
   "metadata": {
    "execution": {
     "iopub.execute_input": "2025-08-10T23:58:12.132518Z",
     "iopub.status.busy": "2025-08-10T23:58:12.132240Z",
     "iopub.status.idle": "2025-08-10T23:58:12.305763Z",
     "shell.execute_reply": "2025-08-10T23:58:12.304996Z"
    },
    "papermill": {
     "duration": 0.184774,
     "end_time": "2025-08-10T23:58:12.307313",
     "exception": false,
     "start_time": "2025-08-10T23:58:12.122539",
     "status": "completed"
    },
    "tags": []
   },
   "outputs": [
    {
     "data": {
      "image/png": "[encoded data removed]",
      "text/plain": [
       "<Figure size 640x480 with 1 Axes>"
      ]
     },
     "metadata": {},
     "output_type": "display_data"
    }
   ],
   "source": [
    "plt.scatter(y_test, y_test_pred)\n",
    "plt.xlabel(\"Actual Values\")\n",
    "plt.ylabel(\"Predicted Values\")\n",
    "plt.title(\"Scatter Plot of Actual vs. Predicted Values\")\n",
    "plt.grid(True)\n",
    "plt.show()"
   ]
  },
  {
   "cell_type": "markdown",
   "id": "183e9744",
   "metadata": {
    "papermill": {
     "duration": 0.009106,
     "end_time": "2025-08-10T23:58:12.326206",
     "exception": false,
     "start_time": "2025-08-10T23:58:12.317100",
     "status": "completed"
    },
    "tags": []
   },
   "source": [
    "Lasso regression "
   ]
  },
  {
   "cell_type": "code",
   "execution_count": 31,
   "id": "07ca66b2",
   "metadata": {
    "execution": {
     "iopub.execute_input": "2025-08-10T23:58:12.346166Z",
     "iopub.status.busy": "2025-08-10T23:58:12.345540Z",
     "iopub.status.idle": "2025-08-10T23:58:12.349375Z",
     "shell.execute_reply": "2025-08-10T23:58:12.348533Z"
    },
    "papermill": {
     "duration": 0.015254,
     "end_time": "2025-08-10T23:58:12.350692",
     "exception": false,
     "start_time": "2025-08-10T23:58:12.335438",
     "status": "completed"
    },
    "tags": []
   },
   "outputs": [],
   "source": [
    "lasso_reg = Lasso()"
   ]
  },
  {
   "cell_type": "code",
   "execution_count": 32,
   "id": "591737c3",
   "metadata": {
    "execution": {
     "iopub.execute_input": "2025-08-10T23:58:12.371112Z",
     "iopub.status.busy": "2025-08-10T23:58:12.370813Z",
     "iopub.status.idle": "2025-08-10T23:58:12.382105Z",
     "shell.execute_reply": "2025-08-10T23:58:12.381312Z"
    },
    "papermill": {
     "duration": 0.023199,
     "end_time": "2025-08-10T23:58:12.383459",
     "exception": false,
     "start_time": "2025-08-10T23:58:12.360260",
     "status": "completed"
    },
    "tags": []
   },
   "outputs": [
    {
     "data": {
      "text/html": [
       "<style>#sk-container-id-2 {color: black;background-color: white;}#sk-container-id-2 pre{padding: 0;}#sk-container-id-2 div.sk-toggleable {background-color: white;}#sk-container-id-2 label.sk-toggleable__label {cursor: pointer;display: block;width: 100%;margin-bottom: 0;padding: 0.3em;box-sizing: border-box;text-align: center;}#sk-container-id-2 label.sk-toggleable__label-arrow:before {content: \"▸\";float: left;margin-right: 0.25em;color: #696969;}#sk-container-id-2 label.sk-toggleable__label-arrow:hover:before {color: black;}#sk-container-id-2 div.sk-estimator:hover label.sk-toggleable__label-arrow:before {color: black;}#sk-container-id-2 div.sk-toggleable__content {max-height: 0;max-width: 0;overflow: hidden;text-align: left;background-color: #f0f8ff;}#sk-container-id-2 div.sk-toggleable__content pre {margin: 0.2em;color: black;border-radius: 0.25em;background-color: #f0f8ff;}#sk-container-id-2 input.sk-toggleable__control:checked~div.sk-toggleable__content {max-height: 200px;max-width: 100%;overflow: auto;}#sk-container-id-2 input.sk-toggleable__control:checked~label.sk-toggleable__label-arrow:before {content: \"▾\";}#sk-container-id-2 div.sk-estimator input.sk-toggleable__control:checked~label.sk-toggleable__label {background-color: #d4ebff;}#sk-container-id-2 div.sk-label input.sk-toggleable__control:checked~label.sk-toggleable__label {background-color: #d4ebff;}#sk-container-id-2 input.sk-hidden--visually {border: 0;clip: rect(1px 1px 1px 1px);clip: rect(1px, 1px, 1px, 1px);height: 1px;margin: -1px;overflow: hidden;padding: 0;position: absolute;width: 1px;}#sk-container-id-2 div.sk-estimator {font-family: monospace;background-color: #f0f8ff;border: 1px dotted black;border-radius: 0.25em;box-sizing: border-box;margin-bottom: 0.5em;}#sk-container-id-2 div.sk-estimator:hover {background-color: #d4ebff;}#sk-container-id-2 div.sk-parallel-item::after {content: \"\";width: 100%;border-bottom: 1px solid gray;flex-grow: 1;}#sk-container-id-2 div.sk-label:hover label.sk-toggleable__label {background-color: #d4ebff;}#sk-container-id-2 div.sk-serial::before {content: \"\";position: absolute;border-left: 1px solid gray;box-sizing: border-box;top: 0;bottom: 0;left: 50%;z-index: 0;}#sk-container-id-2 div.sk-serial {display: flex;flex-direction: column;align-items: center;background-color: white;padding-right: 0.2em;padding-left: 0.2em;position: relative;}#sk-container-id-2 div.sk-item {position: relative;z-index: 1;}#sk-container-id-2 div.sk-parallel {display: flex;align-items: stretch;justify-content: center;background-color: white;position: relative;}#sk-container-id-2 div.sk-item::before, #sk-container-id-2 div.sk-parallel-item::before {content: \"\";position: absolute;border-left: 1px solid gray;box-sizing: border-box;top: 0;bottom: 0;left: 50%;z-index: -1;}#sk-container-id-2 div.sk-parallel-item {display: flex;flex-direction: column;z-index: 1;position: relative;background-color: white;}#sk-container-id-2 div.sk-parallel-item:first-child::after {align-self: flex-end;width: 50%;}#sk-container-id-2 div.sk-parallel-item:last-child::after {align-self: flex-start;width: 50%;}#sk-container-id-2 div.sk-parallel-item:only-child::after {width: 0;}#sk-container-id-2 div.sk-dashed-wrapped {border: 1px dashed gray;margin: 0 0.4em 0.5em 0.4em;box-sizing: border-box;padding-bottom: 0.4em;background-color: white;}#sk-container-id-2 div.sk-label label {font-family: monospace;font-weight: bold;display: inline-block;line-height: 1.2em;}#sk-container-id-2 div.sk-label-container {text-align: center;}#sk-container-id-2 div.sk-container {/* jupyter's `normalize.less` sets `[hidden] { display: none; }` but bootstrap.min.css set `[hidden] { display: none !important; }` so we also need the `!important` here to be able to override the default hidden behavior on the sphinx rendered scikit-learn.org. See: https://github.com/scikit-learn/scikit-learn/issues/21755 */display: inline-block !important;position: relative;}#sk-container-id-2 div.sk-text-repr-fallback {display: none;}</style><div id=\"sk-container-id-2\" class=\"sk-top-container\"><div class=\"sk-text-repr-fallback\"><pre>Lasso()</pre><b>In a Jupyter environment, please rerun this cell to show the HTML representation or trust the notebook. <br />On GitHub, the HTML representation is unable to render, please try loading this page with nbviewer.org.</b></div><div class=\"sk-container\" hidden><div class=\"sk-item\"><div class=\"sk-estimator sk-toggleable\"><input class=\"sk-toggleable__control sk-hidden--visually\" id=\"sk-estimator-id-2\" type=\"checkbox\" checked><label for=\"sk-estimator-id-2\" class=\"sk-toggleable__label sk-toggleable__label-arrow\">Lasso</label><div class=\"sk-toggleable__content\"><pre>Lasso()</pre></div></div></div></div></div>"
      ],
      "text/plain": [
       "Lasso()"
      ]
     },
     "execution_count": 32,
     "metadata": {},
     "output_type": "execute_result"
    }
   ],
   "source": [
    "lasso_reg.fit(x_train , y_train)"
   ]
  },
  {
   "cell_type": "code",
   "execution_count": 33,
   "id": "effbf33c",
   "metadata": {
    "execution": {
     "iopub.execute_input": "2025-08-10T23:58:12.404513Z",
     "iopub.status.busy": "2025-08-10T23:58:12.403760Z",
     "iopub.status.idle": "2025-08-10T23:58:12.409435Z",
     "shell.execute_reply": "2025-08-10T23:58:12.408672Z"
    },
    "papermill": {
     "duration": 0.017287,
     "end_time": "2025-08-10T23:58:12.410681",
     "exception": false,
     "start_time": "2025-08-10T23:58:12.393394",
     "status": "completed"
    },
    "tags": []
   },
   "outputs": [
    {
     "name": "stdout",
     "output_type": "stream",
     "text": [
      "Coefficients (Beta values): [ 3.32728907e-01  5.86809967e-01 -7.78771389e-06  0.00000000e+00\n",
      " -0.00000000e+00  0.00000000e+00]\n",
      "Intercept (Beta_0 value): -669.488645948929\n"
     ]
    }
   ],
   "source": [
    "coefficients = lasso_reg.coef_\n",
    "intercept = lasso_reg.intercept_\n",
    "\n",
    "# Print the coefficients and intercept\n",
    "print(\"Coefficients (Beta values):\", coefficients)\n",
    "print(\"Intercept (Beta_0 value):\", intercept)"
   ]
  },
  {
   "cell_type": "code",
   "execution_count": 34,
   "id": "bc0d4bf5",
   "metadata": {
    "execution": {
     "iopub.execute_input": "2025-08-10T23:58:12.431211Z",
     "iopub.status.busy": "2025-08-10T23:58:12.430864Z",
     "iopub.status.idle": "2025-08-10T23:58:12.436584Z",
     "shell.execute_reply": "2025-08-10T23:58:12.435903Z"
    },
    "papermill": {
     "duration": 0.017411,
     "end_time": "2025-08-10T23:58:12.437828",
     "exception": false,
     "start_time": "2025-08-10T23:58:12.420417",
     "status": "completed"
    },
    "tags": []
   },
   "outputs": [],
   "source": [
    "y_pre = lasso_reg.predict(x_train)"
   ]
  },
  {
   "cell_type": "code",
   "execution_count": 35,
   "id": "a81e5b16",
   "metadata": {
    "execution": {
     "iopub.execute_input": "2025-08-10T23:58:12.458208Z",
     "iopub.status.busy": "2025-08-10T23:58:12.457511Z",
     "iopub.status.idle": "2025-08-10T23:58:12.463449Z",
     "shell.execute_reply": "2025-08-10T23:58:12.462655Z"
    },
    "papermill": {
     "duration": 0.017313,
     "end_time": "2025-08-10T23:58:12.464717",
     "exception": false,
     "start_time": "2025-08-10T23:58:12.447404",
     "status": "completed"
    },
    "tags": []
   },
   "outputs": [
    {
     "data": {
      "text/plain": [
       "3.4445556018319414"
      ]
     },
     "execution_count": 35,
     "metadata": {},
     "output_type": "execute_result"
    }
   ],
   "source": [
    "err = mean_squared_error(y_train , y_pre)\n",
    "err"
   ]
  },
  {
   "cell_type": "code",
   "execution_count": 36,
   "id": "c382d568",
   "metadata": {
    "execution": {
     "iopub.execute_input": "2025-08-10T23:58:12.485541Z",
     "iopub.status.busy": "2025-08-10T23:58:12.485253Z",
     "iopub.status.idle": "2025-08-10T23:58:12.659277Z",
     "shell.execute_reply": "2025-08-10T23:58:12.658404Z"
    },
    "papermill": {
     "duration": 0.186178,
     "end_time": "2025-08-10T23:58:12.660797",
     "exception": false,
     "start_time": "2025-08-10T23:58:12.474619",
     "status": "completed"
    },
    "tags": []
   },
   "outputs": [
    {
     "data": {
      "image/png": "[encoded data removed]",
      "text/plain": [
       "<Figure size 640x480 with 1 Axes>"
      ]
     },
     "metadata": {},
     "output_type": "display_data"
    }
   ],
   "source": [
    "plt.scatter(y_train, y_pre)\n",
    "plt.xlabel(\"Actual Values\")\n",
    "plt.ylabel(\"Predicted Values\")\n",
    "plt.title(\"Scatter Plot of Actual vs. Predicted Values\")\n",
    "plt.grid(True)\n",
    "plt.show()"
   ]
  },
  {
   "cell_type": "code",
   "execution_count": 37,
   "id": "5dcdb6b1",
   "metadata": {
    "execution": {
     "iopub.execute_input": "2025-08-10T23:58:12.683906Z",
     "iopub.status.busy": "2025-08-10T23:58:12.683577Z",
     "iopub.status.idle": "2025-08-10T23:58:12.689941Z",
     "shell.execute_reply": "2025-08-10T23:58:12.689023Z"
    },
    "papermill": {
     "duration": 0.019445,
     "end_time": "2025-08-10T23:58:12.691480",
     "exception": false,
     "start_time": "2025-08-10T23:58:12.672035",
     "status": "completed"
    },
    "tags": []
   },
   "outputs": [],
   "source": [
    "y_test_pred = lasso_reg.predict(x_test)"
   ]
  },
  {
   "cell_type": "code",
   "execution_count": 38,
   "id": "9a82d638",
   "metadata": {
    "execution": {
     "iopub.execute_input": "2025-08-10T23:58:12.714668Z",
     "iopub.status.busy": "2025-08-10T23:58:12.713723Z",
     "iopub.status.idle": "2025-08-10T23:58:12.720352Z",
     "shell.execute_reply": "2025-08-10T23:58:12.719530Z"
    },
    "papermill": {
     "duration": 0.019423,
     "end_time": "2025-08-10T23:58:12.721750",
     "exception": false,
     "start_time": "2025-08-10T23:58:12.702327",
     "status": "completed"
    },
    "tags": []
   },
   "outputs": [
    {
     "data": {
      "text/plain": [
       "7.370917178237407"
      ]
     },
     "execution_count": 38,
     "metadata": {},
     "output_type": "execute_result"
    }
   ],
   "source": [
    "err = mean_squared_error(y_test , y_test_pred)\n",
    "err"
   ]
  },
  {
   "cell_type": "code",
   "execution_count": 39,
   "id": "5a59174e",
   "metadata": {
    "execution": {
     "iopub.execute_input": "2025-08-10T23:58:12.744350Z",
     "iopub.status.busy": "2025-08-10T23:58:12.743785Z",
     "iopub.status.idle": "2025-08-10T23:58:12.924350Z",
     "shell.execute_reply": "2025-08-10T23:58:12.923499Z"
    },
    "papermill": {
     "duration": 0.193328,
     "end_time": "2025-08-10T23:58:12.925779",
     "exception": false,
     "start_time": "2025-08-10T23:58:12.732451",
     "status": "completed"
    },
    "tags": []
   },
   "outputs": [
    {
     "data": {
      "image/png": "[encoded data removed]",
      "text/plain": [
       "<Figure size 640x480 with 1 Axes>"
      ]
     },
     "metadata": {},
     "output_type": "display_data"
    }
   ],
   "source": [
    "plt.scatter(y_test, y_test_pred)\n",
    "plt.xlabel(\"Actual Values\")\n",
    "plt.ylabel(\"Predicted Values\")\n",
    "plt.title(\"Scatter Plot of Actual vs. Predicted Values\")\n",
    "plt.grid(True)\n",
    "plt.show()"
   ]
  },
  {
   "cell_type": "code",
   "execution_count": null,
   "id": "a3ca613a",
   "metadata": {
    "papermill": {
     "duration": 0.010625,
     "end_time": "2025-08-10T23:58:12.947525",
     "exception": false,
     "start_time": "2025-08-10T23:58:12.936900",
     "status": "completed"
    },
    "tags": []
   },
   "outputs": [],
   "source": []
  },
  {
   "cell_type": "code",
   "execution_count": null,
   "id": "2da64c41",
   "metadata": {
    "papermill": {
     "duration": 0.010526,
     "end_time": "2025-08-10T23:58:12.969277",
     "exception": false,
     "start_time": "2025-08-10T23:58:12.958751",
     "status": "completed"
    },
    "tags": []
   },
   "outputs": [],
   "source": []
  }
 ],
 "metadata": {
  "kaggle": {
   "accelerator": "none",
   "dataSources": [
    {
     "datasetId": 8045678,
     "sourceId": 12729133,
     "sourceType": "datasetVersion"
    }
   ],
   "dockerImageVersionId": 31089,
   "isGpuEnabled": false,
   "isInternetEnabled": true,
   "language": "python",
   "sourceType": "notebook"
  },
  "kernelspec": {
   "display_name": "Python 3",
   "language": "python",
   "name": "python3"
  },
  "language_info": {
   "codemirror_mode": {
    "name": "ipython",
    "version": 3
   },
   "file_extension": ".py",
   "mimetype": "text/x-python",
   "name": "python",
   "nbconvert_exporter": "python",
   "pygments_lexer": "ipython3",
   "version": "3.11.13"
  },
  "papermill": {
   "default_parameters": {},
   "duration": 11.138259,
   "end_time": "2025-08-10T23:58:13.699356",
   "environment_variables": {},
   "exception": null,
   "input_path": "__notebook__.ipynb",
   "output_path": "__notebook__.ipynb",
   "parameters": {},
   "start_time": "2025-08-10T23:58:02.561097",
   "version": "2.6.0"
  }
 },
 "nbformat": 4,
 "nbformat_minor": 5
}
